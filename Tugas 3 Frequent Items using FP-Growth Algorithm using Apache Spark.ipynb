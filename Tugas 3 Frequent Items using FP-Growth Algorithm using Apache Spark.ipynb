{
 "cells": [
  {
   "cell_type": "markdown",
   "metadata": {},
   "source": [
    "# Dataset"
   ]
  },
  {
   "cell_type": "markdown",
   "metadata": {},
   "source": [
    "E-Commerce Data from https://www.kaggle.com/carrie1/ecommerce-data\n",
    "\n",
    "Actual Transactions from UK Retailer"
   ]
  },
  {
   "cell_type": "markdown",
   "metadata": {},
   "source": [
    "# 1. Spark Intialization"
   ]
  },
  {
   "cell_type": "code",
   "execution_count": 5,
   "metadata": {},
   "outputs": [],
   "source": [
    "import findspark\n",
    "findspark.init()"
   ]
  },
  {
   "cell_type": "code",
   "execution_count": 6,
   "metadata": {},
   "outputs": [
    {
     "name": "stdout",
     "output_type": "stream",
     "text": [
      "<pyspark.sql.session.SparkSession object at 0x000001E0E92B9630>\n"
     ]
    }
   ],
   "source": [
    "from pyspark.sql import SparkSession\n",
    "\n",
    "# Create Spark Session\n",
    "spark = SparkSession \\\n",
    "    .builder \\\n",
    "    .appName(\"Tugas Spark Frequent Itemsets\") \\\n",
    "    .getOrCreate()\n",
    "\n",
    "print(spark)"
   ]
  },
  {
   "cell_type": "code",
   "execution_count": 7,
   "metadata": {},
   "outputs": [],
   "source": [
    "df = spark.read.csv(\"C://Users//asus//Documents//Datasets//data.csv\", header=\"true\")"
   ]
  },
  {
   "cell_type": "code",
   "execution_count": 8,
   "metadata": {},
   "outputs": [
    {
     "name": "stdout",
     "output_type": "stream",
     "text": [
      "+---------+---------+--------------------+--------+--------------+---------+----------+--------------+\n",
      "|InvoiceNo|StockCode|         Description|Quantity|   InvoiceDate|UnitPrice|CustomerID|       Country|\n",
      "+---------+---------+--------------------+--------+--------------+---------+----------+--------------+\n",
      "|   536365|   85123A|WHITE HANGING HEA...|       6|12/1/2010 8:26|     2.55|     17850|United Kingdom|\n",
      "|   536365|    71053| WHITE METAL LANTERN|       6|12/1/2010 8:26|     3.39|     17850|United Kingdom|\n",
      "|   536365|   84406B|CREAM CUPID HEART...|       8|12/1/2010 8:26|     2.75|     17850|United Kingdom|\n",
      "|   536365|   84029G|KNITTED UNION FLA...|       6|12/1/2010 8:26|     3.39|     17850|United Kingdom|\n",
      "|   536365|   84029E|RED WOOLLY HOTTIE...|       6|12/1/2010 8:26|     3.39|     17850|United Kingdom|\n",
      "|   536365|    22752|SET 7 BABUSHKA NE...|       2|12/1/2010 8:26|     7.65|     17850|United Kingdom|\n",
      "|   536365|    21730|GLASS STAR FROSTE...|       6|12/1/2010 8:26|     4.25|     17850|United Kingdom|\n",
      "|   536366|    22633|HAND WARMER UNION...|       6|12/1/2010 8:28|     1.85|     17850|United Kingdom|\n",
      "|   536366|    22632|HAND WARMER RED P...|       6|12/1/2010 8:28|     1.85|     17850|United Kingdom|\n",
      "|   536367|    84879|ASSORTED COLOUR B...|      32|12/1/2010 8:34|     1.69|     13047|United Kingdom|\n",
      "|   536367|    22745|POPPY'S PLAYHOUSE...|       6|12/1/2010 8:34|      2.1|     13047|United Kingdom|\n",
      "|   536367|    22748|POPPY'S PLAYHOUSE...|       6|12/1/2010 8:34|      2.1|     13047|United Kingdom|\n",
      "|   536367|    22749|FELTCRAFT PRINCES...|       8|12/1/2010 8:34|     3.75|     13047|United Kingdom|\n",
      "|   536367|    22310|IVORY KNITTED MUG...|       6|12/1/2010 8:34|     1.65|     13047|United Kingdom|\n",
      "|   536367|    84969|BOX OF 6 ASSORTED...|       6|12/1/2010 8:34|     4.25|     13047|United Kingdom|\n",
      "|   536367|    22623|BOX OF VINTAGE JI...|       3|12/1/2010 8:34|     4.95|     13047|United Kingdom|\n",
      "|   536367|    22622|BOX OF VINTAGE AL...|       2|12/1/2010 8:34|     9.95|     13047|United Kingdom|\n",
      "|   536367|    21754|HOME BUILDING BLO...|       3|12/1/2010 8:34|     5.95|     13047|United Kingdom|\n",
      "|   536367|    21755|LOVE BUILDING BLO...|       3|12/1/2010 8:34|     5.95|     13047|United Kingdom|\n",
      "|   536367|    21777|RECIPE BOX WITH M...|       4|12/1/2010 8:34|     7.95|     13047|United Kingdom|\n",
      "+---------+---------+--------------------+--------+--------------+---------+----------+--------------+\n",
      "only showing top 20 rows\n",
      "\n"
     ]
    }
   ],
   "source": [
    "df.show()"
   ]
  },
  {
   "cell_type": "code",
   "execution_count": 9,
   "metadata": {},
   "outputs": [
    {
     "data": {
      "text/plain": [
       "StructType(List(StructField(InvoiceNo,StringType,true),StructField(StockCode,StringType,true),StructField(Description,StringType,true),StructField(Quantity,StringType,true),StructField(InvoiceDate,StringType,true),StructField(UnitPrice,StringType,true),StructField(CustomerID,StringType,true),StructField(Country,StringType,true)))"
      ]
     },
     "execution_count": 9,
     "metadata": {},
     "output_type": "execute_result"
    }
   ],
   "source": [
    "df.schema"
   ]
  },
  {
   "cell_type": "code",
   "execution_count": 6,
   "metadata": {},
   "outputs": [],
   "source": [
    "#Select column to be train, thus i use the Invoice No. & Stock Code\n",
    "df = df.selectExpr(['InvoiceNo as ID', 'StockCode as Items'])"
   ]
  },
  {
   "cell_type": "code",
   "execution_count": 10,
   "metadata": {},
   "outputs": [],
   "source": [
    "#Select column to be saved to check the items\n",
    "df_check = df.selectExpr(['InvoiceNo as ID', 'StockCode as Items', 'Description'])"
   ]
  },
  {
   "cell_type": "code",
   "execution_count": 7,
   "metadata": {},
   "outputs": [
    {
     "name": "stdout",
     "output_type": "stream",
     "text": [
      "+------+------+\n",
      "|    ID| Items|\n",
      "+------+------+\n",
      "|536365|85123A|\n",
      "|536365| 71053|\n",
      "|536365|84406B|\n",
      "|536365|84029G|\n",
      "|536365|84029E|\n",
      "|536365| 22752|\n",
      "|536365| 21730|\n",
      "|536366| 22633|\n",
      "|536366| 22632|\n",
      "|536367| 84879|\n",
      "|536367| 22745|\n",
      "|536367| 22748|\n",
      "|536367| 22749|\n",
      "|536367| 22310|\n",
      "|536367| 84969|\n",
      "|536367| 22623|\n",
      "|536367| 22622|\n",
      "|536367| 21754|\n",
      "|536367| 21755|\n",
      "|536367| 21777|\n",
      "+------+------+\n",
      "only showing top 20 rows\n",
      "\n"
     ]
    }
   ],
   "source": [
    "df.show()"
   ]
  },
  {
   "cell_type": "markdown",
   "metadata": {},
   "source": [
    "# 2. Data Grouping & Remove Duplicates"
   ]
  },
  {
   "cell_type": "code",
   "execution_count": 8,
   "metadata": {},
   "outputs": [],
   "source": [
    "#Group the Data according to the Invoice No.\n",
    "from pyspark.sql.functions import collect_list\n",
    "df_group = df.groupby(\"ID\").agg(collect_list('Items').alias('Items'))"
   ]
  },
  {
   "cell_type": "code",
   "execution_count": 9,
   "metadata": {},
   "outputs": [
    {
     "name": "stdout",
     "output_type": "stream",
     "text": [
      "+------+--------------------+\n",
      "|    ID|               Items|\n",
      "+------+--------------------+\n",
      "|536596|[21624, 22900, 22...|\n",
      "|536938|[22386, 85099C, 2...|\n",
      "|537252|             [22197]|\n",
      "|537691|[22791, 22171, 82...|\n",
      "|538041|             [22145]|\n",
      "|538184|[22585, 21481, 22...|\n",
      "|538517|[22491, 21232, 21...|\n",
      "|538879|[84819, 22150, 21...|\n",
      "|539275|[22909, 22423, 22...|\n",
      "|539630|[21484, 85099B, 2...|\n",
      "|540499|[21868, 22697, 22...|\n",
      "|540540|[21877, 21868, 21...|\n",
      "|540976|[22394, 21890, 22...|\n",
      "|541432|[21485, 22457, 84...|\n",
      "|541518|[21880, 21881, 21...|\n",
      "|541783|[22423, 22854, 22...|\n",
      "|542026|[21754, 82600, 22...|\n",
      "|542375|[21731, 22367, 22...|\n",
      "|543641|[85123A, 21833, 2...|\n",
      "|544303|[22660, 48138, 48...|\n",
      "+------+--------------------+\n",
      "only showing top 20 rows\n",
      "\n"
     ]
    }
   ],
   "source": [
    "df_group.show()"
   ]
  },
  {
   "cell_type": "code",
   "execution_count": 10,
   "metadata": {},
   "outputs": [],
   "source": [
    "#Remove duplicates data using udf function \n",
    "from pyspark.sql.functions import udf\n",
    "from pyspark.sql.types import ArrayType, StringType\n",
    "\n",
    "distinct_items= udf(lambda row: list(set(row)), ArrayType(StringType()))\n",
    "df_group = df_group.withColumn(\"distinct_items\", distinct_items(\"Items\"))"
   ]
  },
  {
   "cell_type": "code",
   "execution_count": 11,
   "metadata": {},
   "outputs": [
    {
     "name": "stdout",
     "output_type": "stream",
     "text": [
      "+------+--------------------+--------------------+\n",
      "|    ID|               Items|      distinct_items|\n",
      "+------+--------------------+--------------------+\n",
      "|536596|[21624, 22900, 22...|[84926A, 21624, 2...|\n",
      "|536938|[22386, 85099C, 2...|[21479, 84997B, 2...|\n",
      "|537252|             [22197]|             [22197]|\n",
      "|537691|[22791, 22171, 82...|[22505, 22791, 82...|\n",
      "|538041|             [22145]|             [22145]|\n",
      "|538184|[22585, 21481, 22...|[22492, 22561, 48...|\n",
      "|538517|[22491, 21232, 21...|[22197, 22844, 22...|\n",
      "|538879|[84819, 22150, 21...|[22130, 22555, 84...|\n",
      "|539275|[22909, 22423, 22...|[22423, 21914, 22...|\n",
      "|539630|[21484, 85099B, 2...|[22988, 84347, 22...|\n",
      "|540499|[21868, 22697, 22...|[21755, 84978, 22...|\n",
      "|540540|[21877, 21868, 21...|[22555, 22551, 22...|\n",
      "|540976|[22394, 21890, 22...|[22207, 21110, 84...|\n",
      "|541432|[21485, 22457, 84...|[22113, 22457, 21...|\n",
      "|541518|[21880, 21881, 21...|[20724, 21982, 20...|\n",
      "|541783|[22423, 22854, 22...|[22197, 84978, 22...|\n",
      "|542026|[21754, 82600, 22...|[22197, 22398, 22...|\n",
      "|542375|[21731, 22367, 22...|[22367, 22629, 21...|\n",
      "|543641|[85123A, 21833, 2...|[22371, 44265, 21...|\n",
      "|544303|[22660, 48138, 48...|[20856, 22197, 20...|\n",
      "+------+--------------------+--------------------+\n",
      "only showing top 20 rows\n",
      "\n"
     ]
    }
   ],
   "source": [
    "df_group.show()"
   ]
  },
  {
   "cell_type": "markdown",
   "metadata": {},
   "source": [
    "# 3. FP Growth Algorithm Training"
   ]
  },
  {
   "cell_type": "code",
   "execution_count": 12,
   "metadata": {},
   "outputs": [],
   "source": [
    "from pyspark.ml.fpm import FPGrowth"
   ]
  },
  {
   "cell_type": "markdown",
   "metadata": {},
   "source": [
    "Counting the optimum amount of Support (quora.com) by determining how frequent the items being picked. I use the frequency of Items picked of 3 times in a day and records for data of 2 years is 541910.\n",
    "(3*730)/541910 = 0,04"
   ]
  },
  {
   "cell_type": "markdown",
   "metadata": {},
   "source": [
    "First i use a bigger support and confidence of support = 0.4 and confidence = 0.8"
   ]
  },
  {
   "cell_type": "code",
   "execution_count": 13,
   "metadata": {},
   "outputs": [],
   "source": [
    "fpGrowth = FPGrowth(itemsCol=\"distinct_items\", minSupport=0.4, minConfidence=0.8)\n",
    "model=fpGrowth.fit(df_group)"
   ]
  },
  {
   "cell_type": "code",
   "execution_count": 14,
   "metadata": {},
   "outputs": [
    {
     "name": "stdout",
     "output_type": "stream",
     "text": [
      "+-----+----+\n",
      "|items|freq|\n",
      "+-----+----+\n",
      "+-----+----+\n",
      "\n"
     ]
    }
   ],
   "source": [
    "model.freqItemsets.show()"
   ]
  },
  {
   "cell_type": "code",
   "execution_count": 15,
   "metadata": {},
   "outputs": [
    {
     "name": "stdout",
     "output_type": "stream",
     "text": [
      "+----------+----------+----------+\n",
      "|antecedent|consequent|confidence|\n",
      "+----------+----------+----------+\n",
      "+----------+----------+----------+\n",
      "\n"
     ]
    }
   ],
   "source": [
    "model.associationRules.show()"
   ]
  },
  {
   "cell_type": "markdown",
   "metadata": {},
   "source": [
    "The results are none, so i use the optimum amount of support = 0.04 and confidence 0.04"
   ]
  },
  {
   "cell_type": "code",
   "execution_count": 16,
   "metadata": {},
   "outputs": [],
   "source": [
    "fpGrowth2 = FPGrowth(itemsCol=\"distinct_items\", minSupport=0.04, minConfidence=0.04)\n",
    "model2=fpGrowth2.fit(df_group)"
   ]
  },
  {
   "cell_type": "code",
   "execution_count": 17,
   "metadata": {},
   "outputs": [
    {
     "name": "stdout",
     "output_type": "stream",
     "text": [
      "+--------+----+\n",
      "|   items|freq|\n",
      "+--------+----+\n",
      "|[85123A]|2246|\n",
      "| [22423]|2172|\n",
      "|[85099B]|2135|\n",
      "| [47566]|1706|\n",
      "| [20725]|1608|\n",
      "| [84879]|1468|\n",
      "| [22720]|1462|\n",
      "| [22197]|1442|\n",
      "| [21212]|1334|\n",
      "| [22383]|1306|\n",
      "| [20727]|1295|\n",
      "| [22457]|1266|\n",
      "|  [POST]|1254|\n",
      "| [23203]|1249|\n",
      "| [22386]|1231|\n",
      "| [22960]|1220|\n",
      "| [22469]|1214|\n",
      "| [21931]|1201|\n",
      "| [22411]|1187|\n",
      "| [22961]|1174|\n",
      "+--------+----+\n",
      "only showing top 20 rows\n",
      "\n"
     ]
    }
   ],
   "source": [
    "model2.freqItemsets.show()"
   ]
  },
  {
   "cell_type": "code",
   "execution_count": 18,
   "metadata": {},
   "outputs": [
    {
     "name": "stdout",
     "output_type": "stream",
     "text": [
      "+----------+----------+----------+\n",
      "|antecedent|consequent|confidence|\n",
      "+----------+----------+----------+\n",
      "+----------+----------+----------+\n",
      "\n"
     ]
    }
   ],
   "source": [
    "model2.associationRules.show()"
   ]
  },
  {
   "cell_type": "markdown",
   "metadata": {},
   "source": [
    "Apparently, there is still no available predictions, so i use a lower ammount of support & confidence by cutting it into half."
   ]
  },
  {
   "cell_type": "code",
   "execution_count": 19,
   "metadata": {},
   "outputs": [],
   "source": [
    "fpGrowth3 = FPGrowth(itemsCol=\"distinct_items\", minSupport=0.02, minConfidence=0.02)\n",
    "model3=fpGrowth3.fit(df_group)"
   ]
  },
  {
   "cell_type": "code",
   "execution_count": 20,
   "metadata": {},
   "outputs": [
    {
     "name": "stdout",
     "output_type": "stream",
     "text": [
      "+---------------+----+\n",
      "|          items|freq|\n",
      "+---------------+----+\n",
      "|       [85123A]|2246|\n",
      "|        [22423]|2172|\n",
      "|       [85099B]|2135|\n",
      "|        [47566]|1706|\n",
      "|        [20725]|1608|\n",
      "|[20725, 85099B]| 588|\n",
      "|        [84879]|1468|\n",
      "|        [22720]|1462|\n",
      "|        [22197]|1442|\n",
      "|        [21212]|1334|\n",
      "|        [22383]|1306|\n",
      "| [22383, 20725]| 663|\n",
      "|        [20727]|1295|\n",
      "| [20727, 20725]| 648|\n",
      "| [20727, 22383]| 587|\n",
      "|        [22457]|1266|\n",
      "|         [POST]|1254|\n",
      "|        [23203]|1249|\n",
      "|[23203, 85099B]| 582|\n",
      "|        [22386]|1231|\n",
      "+---------------+----+\n",
      "only showing top 20 rows\n",
      "\n"
     ]
    }
   ],
   "source": [
    "model3.freqItemsets.show()"
   ]
  },
  {
   "cell_type": "code",
   "execution_count": 21,
   "metadata": {},
   "outputs": [
    {
     "name": "stdout",
     "output_type": "stream",
     "text": [
      "+----------+----------+-------------------+\n",
      "|antecedent|consequent|         confidence|\n",
      "+----------+----------+-------------------+\n",
      "|   [22699]|   [22423]|0.47946428571428573|\n",
      "|   [22699]|   [22697]|                0.7|\n",
      "|   [22699]|   [22698]| 0.5482142857142858|\n",
      "|   [22386]|  [85099B]| 0.6766856214459789|\n",
      "|   [22386]|   [21931]| 0.4207961007311129|\n",
      "|   [20727]|   [20725]| 0.5003861003861004|\n",
      "|   [20727]|   [22383]| 0.4532818532818533|\n",
      "|   [20727]|   [20728]| 0.4061776061776062|\n",
      "|   [20727]|   [22384]| 0.4223938223938224|\n",
      "|   [22382]|   [20725]| 0.4811965811965812|\n",
      "|   [22382]|   [22383]|0.45897435897435895|\n",
      "|   [20725]|  [85099B]| 0.3656716417910448|\n",
      "|   [20725]|   [22383]| 0.4123134328358209|\n",
      "|   [20725]|   [20727]|0.40298507462686567|\n",
      "|   [20725]|   [20728]|0.34950248756218905|\n",
      "|   [20725]|   [22382]|0.35012437810945274|\n",
      "|   [20725]|   [22384]| 0.3812189054726368|\n",
      "|   [20725]|   [20726]| 0.3308457711442786|\n",
      "|   [22384]|   [20725]| 0.5522522522522523|\n",
      "|   [22384]|   [20727]| 0.4927927927927928|\n",
      "+----------+----------+-------------------+\n",
      "only showing top 20 rows\n",
      "\n"
     ]
    }
   ],
   "source": [
    "model3.associationRules.show()"
   ]
  },
  {
   "cell_type": "code",
   "execution_count": 22,
   "metadata": {},
   "outputs": [
    {
     "name": "stdout",
     "output_type": "stream",
     "text": [
      "+------+--------------------+--------------------+--------------------+\n",
      "|    ID|               Items|      distinct_items|          prediction|\n",
      "+------+--------------------+--------------------+--------------------+\n",
      "|536596|[21624, 22900, 22...|[84926A, 21624, 2...|                  []|\n",
      "|536938|[22386, 85099C, 2...|[21479, 84997B, 2...|     [85099B, 22411]|\n",
      "|537252|             [22197]|             [22197]|                  []|\n",
      "|537691|[22791, 22171, 82...|[22505, 22791, 82...|                  []|\n",
      "|538041|             [22145]|             [22145]|                  []|\n",
      "|538184|[22585, 21481, 22...|[22492, 22561, 48...|                  []|\n",
      "|538517|[22491, 21232, 21...|[22197, 22844, 22...|                  []|\n",
      "|538879|[84819, 22150, 21...|[22130, 22555, 84...|                  []|\n",
      "|539275|[22909, 22423, 22...|[22423, 21914, 22...|      [22699, 22697]|\n",
      "|539630|[21484, 85099B, 2...|[22988, 84347, 22...|[20725, 23203, 22...|\n",
      "|540499|[21868, 22697, 22...|[21755, 84978, 22...|      [22698, 20724]|\n",
      "|540540|[21877, 21868, 21...|[22555, 22551, 22...|                  []|\n",
      "|540976|[22394, 21890, 22...|[22207, 21110, 84...|             [22356]|\n",
      "|541432|[21485, 22457, 84...|[22113, 22457, 21...|                  []|\n",
      "|541518|[21880, 21881, 21...|[20724, 21982, 20...|[22356, 20725, 23...|\n",
      "|541783|[22423, 22854, 22...|[22197, 84978, 22...|             [22698]|\n",
      "|542026|[21754, 82600, 22...|[22197, 22398, 22...|                  []|\n",
      "|542375|[21731, 22367, 22...|[22367, 22629, 21...|             [22630]|\n",
      "|543641|[85123A, 21833, 2...|[22371, 44265, 21...|                  []|\n",
      "|544303|[22660, 48138, 48...|[20856, 22197, 20...|                  []|\n",
      "+------+--------------------+--------------------+--------------------+\n",
      "only showing top 20 rows\n",
      "\n"
     ]
    }
   ],
   "source": [
    "#Transform the association rules into predictions\n",
    "model3.transform(df_group).show()"
   ]
  },
  {
   "cell_type": "code",
   "execution_count": 43,
   "metadata": {},
   "outputs": [],
   "source": [
    "#Get 1 example of items and put it into Data Frame\n",
    "df_compare=spark.createDataFrame([\n",
    "    ('0',['22423'])\n",
    "],['id','distinct_items'])"
   ]
  },
  {
   "cell_type": "code",
   "execution_count": 44,
   "metadata": {},
   "outputs": [
    {
     "name": "stdout",
     "output_type": "stream",
     "text": [
      "+---+--------------+\n",
      "| id|distinct_items|\n",
      "+---+--------------+\n",
      "|  0|       [22423]|\n",
      "+---+--------------+\n",
      "\n"
     ]
    }
   ],
   "source": [
    "df_compare.show()"
   ]
  },
  {
   "cell_type": "code",
   "execution_count": 45,
   "metadata": {},
   "outputs": [
    {
     "name": "stdout",
     "output_type": "stream",
     "text": [
      "+---+--------------+--------------+\n",
      "| id|distinct_items|    prediction|\n",
      "+---+--------------+--------------+\n",
      "|  0|       [22423]|[22699, 22697]|\n",
      "+---+--------------+--------------+\n",
      "\n"
     ]
    }
   ],
   "source": [
    "#We need to find the closest prediction for item 22423 and we get 22699 & 22697\n",
    "model3.transform(df_compare).show()"
   ]
  },
  {
   "cell_type": "code",
   "execution_count": 11,
   "metadata": {},
   "outputs": [
    {
     "name": "stdout",
     "output_type": "stream",
     "text": [
      "+------+------+--------------------+\n",
      "|    ID| Items|         Description|\n",
      "+------+------+--------------------+\n",
      "|536365|85123A|WHITE HANGING HEA...|\n",
      "|536365| 71053| WHITE METAL LANTERN|\n",
      "|536365|84406B|CREAM CUPID HEART...|\n",
      "|536365|84029G|KNITTED UNION FLA...|\n",
      "|536365|84029E|RED WOOLLY HOTTIE...|\n",
      "|536365| 22752|SET 7 BABUSHKA NE...|\n",
      "|536365| 21730|GLASS STAR FROSTE...|\n",
      "|536366| 22633|HAND WARMER UNION...|\n",
      "|536366| 22632|HAND WARMER RED P...|\n",
      "|536367| 84879|ASSORTED COLOUR B...|\n",
      "|536367| 22745|POPPY'S PLAYHOUSE...|\n",
      "|536367| 22748|POPPY'S PLAYHOUSE...|\n",
      "|536367| 22749|FELTCRAFT PRINCES...|\n",
      "|536367| 22310|IVORY KNITTED MUG...|\n",
      "|536367| 84969|BOX OF 6 ASSORTED...|\n",
      "|536367| 22623|BOX OF VINTAGE JI...|\n",
      "|536367| 22622|BOX OF VINTAGE AL...|\n",
      "|536367| 21754|HOME BUILDING BLO...|\n",
      "|536367| 21755|LOVE BUILDING BLO...|\n",
      "|536367| 21777|RECIPE BOX WITH M...|\n",
      "+------+------+--------------------+\n",
      "only showing top 20 rows\n",
      "\n"
     ]
    }
   ],
   "source": [
    "df_check.show()"
   ]
  },
  {
   "cell_type": "markdown",
   "metadata": {},
   "source": [
    "# 4. Final Analysis"
   ]
  },
  {
   "cell_type": "markdown",
   "metadata": {},
   "source": [
    "To check the Description of the Items, i use the SQL Query to find the Description."
   ]
  },
  {
   "cell_type": "code",
   "execution_count": 12,
   "metadata": {},
   "outputs": [],
   "source": [
    "df_check.createOrReplaceTempView(\"ecommerce\")"
   ]
  },
  {
   "cell_type": "code",
   "execution_count": 21,
   "metadata": {},
   "outputs": [
    {
     "name": "stdout",
     "output_type": "stream",
     "text": [
      "+--------------------+\n",
      "|         Description|\n",
      "+--------------------+\n",
      "|REGENCY CAKESTAND...|\n",
      "|             damages|\n",
      "|              faulty|\n",
      "+--------------------+\n",
      "\n"
     ]
    }
   ],
   "source": [
    "#Find the item with StockCode of '22423'\n",
    "query1=spark.sql(\"SELECT DISTINCT Description FROM ecommerce WHERE Items = '22423'\")\n",
    "query1.show()"
   ]
  },
  {
   "cell_type": "code",
   "execution_count": 17,
   "metadata": {},
   "outputs": [
    {
     "name": "stdout",
     "output_type": "stream",
     "text": [
      "+--------------------+\n",
      "|         Description|\n",
      "+--------------------+\n",
      "|ROSES REGENCY TEA...|\n",
      "+--------------------+\n",
      "\n"
     ]
    }
   ],
   "source": [
    "#Find the item with StockCode of '22699'\n",
    "query2=spark.sql(\"SELECT DISTINCT Description FROM ecommerce WHERE Items = '22699'\")\n",
    "query2.show()"
   ]
  },
  {
   "cell_type": "code",
   "execution_count": 18,
   "metadata": {},
   "outputs": [
    {
     "name": "stdout",
     "output_type": "stream",
     "text": [
      "+--------------------+\n",
      "|         Description|\n",
      "+--------------------+\n",
      "|GREEN REGENCY TEA...|\n",
      "+--------------------+\n",
      "\n"
     ]
    }
   ],
   "source": [
    "#Find the item with StockCode of '22697'\n",
    "query3=spark.sql(\"SELECT DISTINCT Description FROM ecommerce WHERE Items = '22697'\")\n",
    "query3.show()"
   ]
  },
  {
   "cell_type": "markdown",
   "metadata": {},
   "source": [
    "# Final Result"
   ]
  },
  {
   "cell_type": "markdown",
   "metadata": {},
   "source": [
    "The results are when people buy Regency Cakestand they are most likely also to buy Roses Regency Tea and/or Green Regency Tea. "
   ]
  },
  {
   "cell_type": "markdown",
   "metadata": {},
   "source": [
    "# Reference"
   ]
  },
  {
   "cell_type": "markdown",
   "metadata": {},
   "source": [
    "1. Remove Multiple Items : https://stackoverflow.com/questions/54185710/remove-duplicates-from-pyspark-array-column\n",
    "2. Counting Optimum Ammount of Support : https://www.quora.com/How-do-I-pick-appropriate-support-confidence-value-when-doing-basket-analysis-with-Apriori-algorithm\n",
    "       "
   ]
  }
 ],
 "metadata": {
  "kernelspec": {
   "display_name": "Python 3",
   "language": "python",
   "name": "python3"
  },
  "language_info": {
   "codemirror_mode": {
    "name": "ipython",
    "version": 3
   },
   "file_extension": ".py",
   "mimetype": "text/x-python",
   "name": "python",
   "nbconvert_exporter": "python",
   "pygments_lexer": "ipython3",
   "version": "3.7.1"
  }
 },
 "nbformat": 4,
 "nbformat_minor": 2
}

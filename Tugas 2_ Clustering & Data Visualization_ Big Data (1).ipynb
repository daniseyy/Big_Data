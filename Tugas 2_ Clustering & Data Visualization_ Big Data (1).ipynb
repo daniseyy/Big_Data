{
 "cells": [
  {
   "cell_type": "markdown",
   "metadata": {},
   "source": [
    "# Simple Clustering using PySpark and Pixiedust for Data Visualization"
   ]
  },
  {
   "cell_type": "markdown",
   "metadata": {},
   "source": [
    "# 1. Spark Initialization"
   ]
  },
  {
   "cell_type": "code",
   "execution_count": 1,
   "metadata": {},
   "outputs": [
    {
     "name": "stdout",
     "output_type": "stream",
     "text": [
      "<pyspark.sql.session.SparkSession object at 0x0000025F59CA84E0>\n"
     ]
    }
   ],
   "source": [
    " # Call findspark\n",
    "import findspark\n",
    "findspark.init()\n",
    "\n",
    "# Import required library\n",
    "from pyspark.sql import SparkSession\n",
    "\n",
    "# Create Spark Session\n",
    "spark = SparkSession \\\n",
    "    .builder \\\n",
    "    .appName(\"Tugas Clustering Big Data\") \\\n",
    "    .getOrCreate()\n",
    "\n",
    "print(spark)"
   ]
  },
  {
   "cell_type": "markdown",
   "metadata": {},
   "source": [
    "# 2. Input Data "
   ]
  },
  {
   "cell_type": "markdown",
   "metadata": {},
   "source": [
    "The data that i'm going to use is the US Baby Names dataset from kaggle.com"
   ]
  },
  {
   "cell_type": "code",
   "execution_count": 2,
   "metadata": {},
   "outputs": [],
   "source": [
    "df = spark.read.csv(\"C://Users//asus//Documents//Datasets//NationalNames.csv\")"
   ]
  },
  {
   "cell_type": "code",
   "execution_count": 3,
   "metadata": {},
   "outputs": [
    {
     "name": "stdout",
     "output_type": "stream",
     "text": [
      "+---+---------+----+------+-----+\n",
      "|_c0|      _c1| _c2|   _c3|  _c4|\n",
      "+---+---------+----+------+-----+\n",
      "| Id|     Name|Year|Gender|Count|\n",
      "|  1|     Mary|1880|     F| 7065|\n",
      "|  2|     Anna|1880|     F| 2604|\n",
      "|  3|     Emma|1880|     F| 2003|\n",
      "|  4|Elizabeth|1880|     F| 1939|\n",
      "|  5|   Minnie|1880|     F| 1746|\n",
      "|  6| Margaret|1880|     F| 1578|\n",
      "|  7|      Ida|1880|     F| 1472|\n",
      "|  8|    Alice|1880|     F| 1414|\n",
      "|  9|   Bertha|1880|     F| 1320|\n",
      "| 10|    Sarah|1880|     F| 1288|\n",
      "| 11|    Annie|1880|     F| 1258|\n",
      "| 12|    Clara|1880|     F| 1226|\n",
      "| 13|     Ella|1880|     F| 1156|\n",
      "| 14| Florence|1880|     F| 1063|\n",
      "| 15|     Cora|1880|     F| 1045|\n",
      "| 16|   Martha|1880|     F| 1040|\n",
      "| 17|    Laura|1880|     F| 1012|\n",
      "| 18|   Nellie|1880|     F|  995|\n",
      "| 19|    Grace|1880|     F|  982|\n",
      "+---+---------+----+------+-----+\n",
      "only showing top 20 rows\n",
      "\n"
     ]
    }
   ],
   "source": [
    "df.show()"
   ]
  },
  {
   "cell_type": "code",
   "execution_count": 4,
   "metadata": {},
   "outputs": [],
   "source": [
    "df.createOrReplaceTempView(\"babynames\")"
   ]
  },
  {
   "cell_type": "code",
   "execution_count": 5,
   "metadata": {},
   "outputs": [
    {
     "data": {
      "text/plain": [
       "1825434"
      ]
     },
     "execution_count": 5,
     "metadata": {},
     "output_type": "execute_result"
    }
   ],
   "source": [
    "df.count()"
   ]
  },
  {
   "cell_type": "code",
   "execution_count": 6,
   "metadata": {},
   "outputs": [
    {
     "data": {
      "text/plain": [
       "StructType(List(StructField(_c0,StringType,true),StructField(_c1,StringType,true),StructField(_c2,StringType,true),StructField(_c3,StringType,true),StructField(_c4,StringType,true)))"
      ]
     },
     "execution_count": 6,
     "metadata": {},
     "output_type": "execute_result"
    }
   ],
   "source": [
    "df.schema"
   ]
  },
  {
   "cell_type": "markdown",
   "metadata": {},
   "source": [
    "# 3. Select Specific Data : Female Baby Names Throughout the Year 2000-2014"
   ]
  },
  {
   "cell_type": "code",
   "execution_count": 15,
   "metadata": {},
   "outputs": [],
   "source": [
    "\n",
    "data=spark.sql(\"SELECT _c1, _c2, _c4 FROM babynames WHERE _c3='F' AND _C2 BETWEEN '2000' AND '2014'\")"
   ]
  },
  {
   "cell_type": "code",
   "execution_count": 16,
   "metadata": {},
   "outputs": [
    {
     "name": "stdout",
     "output_type": "stream",
     "text": [
      "+---------+----+-----+\n",
      "|      _c1| _c2|  _c4|\n",
      "+---------+----+-----+\n",
      "|    Emily|2000|25952|\n",
      "|   Hannah|2000|23073|\n",
      "|  Madison|2000|19967|\n",
      "|   Ashley|2000|17995|\n",
      "|    Sarah|2000|17687|\n",
      "|   Alexis|2000|17627|\n",
      "| Samantha|2000|17264|\n",
      "|  Jessica|2000|15704|\n",
      "|Elizabeth|2000|15088|\n",
      "|   Taylor|2000|15078|\n",
      "|   Lauren|2000|14172|\n",
      "|   Alyssa|2000|13552|\n",
      "|    Kayla|2000|13310|\n",
      "|  Abigail|2000|13087|\n",
      "|  Brianna|2000|12873|\n",
      "|   Olivia|2000|12852|\n",
      "|     Emma|2000|12540|\n",
      "|    Megan|2000|11433|\n",
      "|    Grace|2000|11283|\n",
      "| Victoria|2000|10922|\n",
      "+---------+----+-----+\n",
      "only showing top 20 rows\n",
      "\n"
     ]
    }
   ],
   "source": [
    "data.show()"
   ]
  },
  {
   "cell_type": "markdown",
   "metadata": {},
   "source": [
    "# 4. Converting String into Index"
   ]
  },
  {
   "cell_type": "markdown",
   "metadata": {},
   "source": [
    "Because the Vector Assembler in PySpark cannot accept String DataType, we need to convert the data that we're going to train into index/tokenization, but here i'm going to use the StringIndexer module."
   ]
  },
  {
   "cell_type": "code",
   "execution_count": 17,
   "metadata": {},
   "outputs": [],
   "source": [
    "from pyspark.ml.feature import StringIndexer, IndexToString"
   ]
  },
  {
   "cell_type": "code",
   "execution_count": 18,
   "metadata": {},
   "outputs": [
    {
     "name": "stdout",
     "output_type": "stream",
     "text": [
      "+---------+----+-----+-----------+\n",
      "|      _c1| _c2|  _c4|count_index|\n",
      "+---------+----+-----+-----------+\n",
      "|    Emily|2000|25952|     2512.0|\n",
      "|   Hannah|2000|23073|     3709.0|\n",
      "|  Madison|2000|19967|     2649.0|\n",
      "|   Ashley|2000|17995|     2579.0|\n",
      "|    Sarah|2000|17687|     3388.0|\n",
      "|   Alexis|2000|17627|     3744.0|\n",
      "| Samantha|2000|17264|     2335.0|\n",
      "|  Jessica|2000|15704|     3184.0|\n",
      "|Elizabeth|2000|15088|     2569.0|\n",
      "|   Taylor|2000|15078|     3111.0|\n",
      "|   Lauren|2000|14172|     2645.0|\n",
      "|   Alyssa|2000|13552|     2873.0|\n",
      "|    Kayla|2000|13310|     2029.0|\n",
      "|  Abigail|2000|13087|     3455.0|\n",
      "|  Brianna|2000|12873|     3505.0|\n",
      "|   Olivia|2000|12852|     2394.0|\n",
      "|     Emma|2000|12540|     2561.0|\n",
      "|    Megan|2000|11433|     2233.0|\n",
      "|    Grace|2000|11283|     2507.0|\n",
      "| Victoria|2000|10922|     2061.0|\n",
      "+---------+----+-----+-----------+\n",
      "only showing top 20 rows\n",
      "\n"
     ]
    }
   ],
   "source": [
    "indexer = StringIndexer(inputCol=\"_c4\", outputCol=\"count_index\").fit(data)\n",
    "data_ind = indexer.transform(data)\n",
    "data_ind.show()"
   ]
  },
  {
   "cell_type": "markdown",
   "metadata": {},
   "source": [
    "# 5. Assembling Vector"
   ]
  },
  {
   "cell_type": "code",
   "execution_count": 19,
   "metadata": {},
   "outputs": [
    {
     "name": "stdout",
     "output_type": "stream",
     "text": [
      "+---------+----+-----+-----------+--------+\n",
      "|      _c1| _c2|  _c4|count_index|features|\n",
      "+---------+----+-----+-----------+--------+\n",
      "|    Emily|2000|25952|     2512.0|[2512.0]|\n",
      "|   Hannah|2000|23073|     3709.0|[3709.0]|\n",
      "|  Madison|2000|19967|     2649.0|[2649.0]|\n",
      "|   Ashley|2000|17995|     2579.0|[2579.0]|\n",
      "|    Sarah|2000|17687|     3388.0|[3388.0]|\n",
      "|   Alexis|2000|17627|     3744.0|[3744.0]|\n",
      "| Samantha|2000|17264|     2335.0|[2335.0]|\n",
      "|  Jessica|2000|15704|     3184.0|[3184.0]|\n",
      "|Elizabeth|2000|15088|     2569.0|[2569.0]|\n",
      "|   Taylor|2000|15078|     3111.0|[3111.0]|\n",
      "|   Lauren|2000|14172|     2645.0|[2645.0]|\n",
      "|   Alyssa|2000|13552|     2873.0|[2873.0]|\n",
      "|    Kayla|2000|13310|     2029.0|[2029.0]|\n",
      "|  Abigail|2000|13087|     3455.0|[3455.0]|\n",
      "|  Brianna|2000|12873|     3505.0|[3505.0]|\n",
      "|   Olivia|2000|12852|     2394.0|[2394.0]|\n",
      "|     Emma|2000|12540|     2561.0|[2561.0]|\n",
      "|    Megan|2000|11433|     2233.0|[2233.0]|\n",
      "|    Grace|2000|11283|     2507.0|[2507.0]|\n",
      "| Victoria|2000|10922|     2061.0|[2061.0]|\n",
      "+---------+----+-----+-----------+--------+\n",
      "only showing top 20 rows\n",
      "\n"
     ]
    }
   ],
   "source": [
    "# Assembling Vector\n",
    "from pyspark.ml.feature import VectorAssembler\n",
    "\n",
    "assembler = VectorAssembler(\n",
    "    inputCols=[\"count_index\"],\n",
    "    outputCol='features')\n",
    "\n",
    "data_ind = assembler.transform(data_ind)\n",
    "data_ind.show()"
   ]
  },
  {
   "cell_type": "markdown",
   "metadata": {},
   "source": [
    "# 6. Train Model & Make Predictions"
   ]
  },
  {
   "cell_type": "markdown",
   "metadata": {},
   "source": [
    "Here i'm going to train the data using K-Means, with value of K=5, since i'm using the elbow method in R to determine the optimal value of K and got the result of 5. \n"
   ]
  },
  {
   "cell_type": "code",
   "execution_count": 20,
   "metadata": {},
   "outputs": [],
   "source": [
    "# Train model\n",
    "from pyspark.ml.clustering import KMeans\n",
    "from pyspark.ml.evaluation import ClusteringEvaluator\n",
    "\n",
    "kmeans = KMeans().setK(5).setSeed(1)\n",
    "model = kmeans.fit(data_ind)"
   ]
  },
  {
   "cell_type": "code",
   "execution_count": 21,
   "metadata": {},
   "outputs": [
    {
     "name": "stdout",
     "output_type": "stream",
     "text": [
      "+----------+----+-----+-----------+--------+----------+\n",
      "|       _c1| _c2|  _c4|count_index|features|prediction|\n",
      "+----------+----+-----+-----------+--------+----------+\n",
      "|     Emily|2000|25952|     2512.0|[2512.0]|         2|\n",
      "|    Hannah|2000|23073|     3709.0|[3709.0]|         2|\n",
      "|   Madison|2000|19967|     2649.0|[2649.0]|         2|\n",
      "|    Ashley|2000|17995|     2579.0|[2579.0]|         2|\n",
      "|     Sarah|2000|17687|     3388.0|[3388.0]|         2|\n",
      "|    Alexis|2000|17627|     3744.0|[3744.0]|         2|\n",
      "|  Samantha|2000|17264|     2335.0|[2335.0]|         4|\n",
      "|   Jessica|2000|15704|     3184.0|[3184.0]|         2|\n",
      "| Elizabeth|2000|15088|     2569.0|[2569.0]|         2|\n",
      "|    Taylor|2000|15078|     3111.0|[3111.0]|         2|\n",
      "|    Lauren|2000|14172|     2645.0|[2645.0]|         2|\n",
      "|    Alyssa|2000|13552|     2873.0|[2873.0]|         2|\n",
      "|     Kayla|2000|13310|     2029.0|[2029.0]|         4|\n",
      "|   Abigail|2000|13087|     3455.0|[3455.0]|         2|\n",
      "|   Brianna|2000|12873|     3505.0|[3505.0]|         2|\n",
      "|    Olivia|2000|12852|     2394.0|[2394.0]|         4|\n",
      "|      Emma|2000|12540|     2561.0|[2561.0]|         2|\n",
      "|     Megan|2000|11433|     2233.0|[2233.0]|         4|\n",
      "|     Grace|2000|11283|     2507.0|[2507.0]|         2|\n",
      "|  Victoria|2000|10922|     2061.0|[2061.0]|         4|\n",
      "|    Rachel|2000|10665|     3381.0|[3381.0]|         2|\n",
      "|      Anna|2000|10580|     1484.0|[1484.0]|         4|\n",
      "|    Sydney|2000|10242|     1989.0|[1989.0]|         4|\n",
      "|   Destiny|2000| 9844|     3027.0|[3027.0]|         2|\n",
      "|    Morgan|2000| 9502|     3061.0|[3061.0]|         2|\n",
      "|  Jennifer|2000| 9385|     2039.0|[2039.0]|         4|\n",
      "|   Jasmine|2000| 9092|     2927.0|[2927.0]|         2|\n",
      "|     Haley|2000| 9068|     3529.0|[3529.0]|         2|\n",
      "|     Julia|2000| 8764|     3229.0|[3229.0]|         2|\n",
      "|   Kaitlyn|2000| 8757|     2489.0|[2489.0]|         4|\n",
      "|    Nicole|2000| 8559|     3056.0|[3056.0]|         2|\n",
      "|    Amanda|2000| 8549|     2206.0|[2206.0]|         4|\n",
      "| Katherine|2000| 8106|     3608.0|[3608.0]|         2|\n",
      "|   Natalie|2000| 8094|     2446.0|[2446.0]|         4|\n",
      "|    Hailey|2000| 7827|     2992.0|[2992.0]|         2|\n",
      "| Alexandra|2000| 7545|     2800.0|[2800.0]|         2|\n",
      "|  Savannah|2000| 7099|     2574.0|[2574.0]|         2|\n",
      "|     Chloe|2000| 7094|     2424.0|[2424.0]|         4|\n",
      "|   Rebecca|2000| 7055|     2483.0|[2483.0]|         4|\n",
      "| Stephanie|2000| 7027|     3280.0|[3280.0]|         2|\n",
      "|     Maria|2000| 6851|     2722.0|[2722.0]|         2|\n",
      "|    Sophia|2000| 6562|     3120.0|[3120.0]|         2|\n",
      "| Mackenzie|2000| 6348|     3192.0|[3192.0]|         2|\n",
      "|   Allison|2000| 6314|     2768.0|[2768.0]|         2|\n",
      "|  Isabella|2000| 6242|     3022.0|[3022.0]|         2|\n",
      "|      Mary|2000| 6182|     3433.0|[3433.0]|         2|\n",
      "|     Amber|2000| 6181|     3347.0|[3347.0]|         2|\n",
      "|  Danielle|2000| 6087|     1570.0|[1570.0]|         4|\n",
      "| Gabrielle|2000| 5868|     3552.0|[3552.0]|         2|\n",
      "|    Jordan|2000| 5808|     2154.0|[2154.0]|         4|\n",
      "|    Brooke|2000| 5640|     2267.0|[2267.0]|         4|\n",
      "|  Michelle|2000| 5543|     2254.0|[2254.0]|         4|\n",
      "|    Sierra|2000| 5520|     3493.0|[3493.0]|         2|\n",
      "|   Katelyn|2000| 5501|     2652.0|[2652.0]|         2|\n",
      "|    Andrea|2000| 5475|     2608.0|[2608.0]|         2|\n",
      "|  Madeline|2000| 5370|     3502.0|[3502.0]|         2|\n",
      "|      Sara|2000| 5315|     1474.0|[1474.0]|         4|\n",
      "|  Kimberly|2000| 5240|     1662.0|[1662.0]|         4|\n",
      "|  Courtney|2000| 5239|     2239.0|[2239.0]|         4|\n",
      "|      Erin|2000| 5183|     2971.0|[2971.0]|         2|\n",
      "|  Brittany|2000| 5182|     3518.0|[3518.0]|         2|\n",
      "|   Vanessa|2000| 5133|     2162.0|[2162.0]|         4|\n",
      "|     Jenna|2000| 5045|     2729.0|[2729.0]|         2|\n",
      "|Jacqueline|2000| 5035|     3706.0|[3706.0]|         2|\n",
      "|  Caroline|2000| 5021|     3039.0|[3039.0]|         2|\n",
      "|     Faith|2000| 4998|     3812.0|[3812.0]|         2|\n",
      "|   Makayla|2000| 4916|     3755.0|[3755.0]|         2|\n",
      "|    Bailey|2000| 4647|     1246.0|[1246.0]|         1|\n",
      "|     Paige|2000| 4609|     3396.0|[3396.0]|         2|\n",
      "|    Shelby|2000| 4558|     3595.0|[3595.0]|         2|\n",
      "|   Melissa|2000| 4528|     1894.0|[1894.0]|         4|\n",
      "|    Kaylee|2000| 4492|     3118.0|[3118.0]|         2|\n",
      "| Christina|2000| 4321|     3420.0|[3420.0]|         2|\n",
      "|   Trinity|2000| 4284|     1687.0|[1687.0]|         4|\n",
      "|    Mariah|2000| 4103|     1475.0|[1475.0]|         4|\n",
      "|   Caitlin|2000| 4102|     1599.0|[1599.0]|         4|\n",
      "|    Autumn|2000| 4024|     2274.0|[2274.0]|         4|\n",
      "|   Marissa|2000| 4023|     2760.0|[2760.0]|         2|\n",
      "|   Breanna|2000| 3823|     3528.0|[3528.0]|         2|\n",
      "|    Angela|2000| 3822|     3163.0|[3163.0]|         2|\n",
      "| Catherine|2000| 3800|     3020.0|[3020.0]|         2|\n",
      "|       Zoe|2000| 3785|     2463.0|[2463.0]|         4|\n",
      "|    Briana|2000| 3754|     2296.0|[2296.0]|         4|\n",
      "|      Jada|2000| 3747|     3064.0|[3064.0]|         2|\n",
      "|     Laura|2000| 3732|     3252.0|[3252.0]|         2|\n",
      "|    Claire|2000| 3710|     1404.0|[1404.0]|         4|\n",
      "|     Alexa|2000| 3674|     2181.0|[2181.0]|         4|\n",
      "|    Kelsey|2000| 3669|     2245.0|[2245.0]|         4|\n",
      "|   Kathryn|2000| 3641|     1489.0|[1489.0]|         4|\n",
      "|    Leslie|2000| 3620|     1799.0|[1799.0]|         4|\n",
      "|Alexandria|2000| 3547|     1930.0|[1930.0]|         4|\n",
      "|   Sabrina|2000| 3465|     1611.0|[1611.0]|         4|\n",
      "|       Mia|2000| 3449|     1214.0|[1214.0]|         1|\n",
      "|    Isabel|2000| 3446|     1936.0|[1936.0]|         4|\n",
      "|     Molly|2000| 3399|     1251.0|[1251.0]|         1|\n",
      "|      Leah|2000| 3395|     2799.0|[2799.0]|         2|\n",
      "|     Katie|2000| 3391|     1901.0|[1901.0]|         4|\n",
      "| Gabriella|2000| 3367|     1177.0|[1177.0]|         1|\n",
      "|  Cheyenne|2000| 3366|     1684.0|[1684.0]|         4|\n",
      "| Cassandra|2000| 3304|     2081.0|[2081.0]|         4|\n",
      "+----------+----+-----+-----------+--------+----------+\n",
      "only showing top 100 rows\n",
      "\n"
     ]
    }
   ],
   "source": [
    "# Make a prediction\n",
    "predictions = model.transform(data_ind)\n",
    "predictions.show(100)"
   ]
  },
  {
   "cell_type": "markdown",
   "metadata": {},
   "source": [
    "# 7. Evaluate"
   ]
  },
  {
   "cell_type": "code",
   "execution_count": 22,
   "metadata": {},
   "outputs": [
    {
     "name": "stdout",
     "output_type": "stream",
     "text": [
      "Silhouette with squared euclidean distance = 0.9520294584880125\n"
     ]
    }
   ],
   "source": [
    "# Evaluate clustering by computing Silhouette score\n",
    "evaluator = ClusteringEvaluator()\n",
    "\n",
    "silhouette = evaluator.evaluate(predictions)\n",
    "print(\"Silhouette with squared euclidean distance = \" + str(silhouette))"
   ]
  },
  {
   "cell_type": "markdown",
   "metadata": {},
   "source": [
    "# 8. Data Visualization using Pixiedust"
   ]
  },
  {
   "cell_type": "code",
   "execution_count": 23,
   "metadata": {},
   "outputs": [
    {
     "name": "stdout",
     "output_type": "stream",
     "text": [
      "Pixiedust database opened successfully\n"
     ]
    },
    {
     "data": {
      "text/html": [
       "\n",
       "        <div style=\"margin:10px\">\n",
       "            <a href=\"https://github.com/ibm-watson-data-lab/pixiedust\" target=\"_new\">\n",
       "                <img src=\"https://github.com/ibm-watson-data-lab/pixiedust/raw/master/docs/_static/pd_icon32.png\" style=\"float:left;margin-right:10px\"/>\n",
       "            </a>\n",
       "            <span>Pixiedust version 1.1.15</span>\n",
       "        </div>\n",
       "        "
      ],
      "text/plain": [
       "<IPython.core.display.HTML object>"
      ]
     },
     "metadata": {},
     "output_type": "display_data"
    }
   ],
   "source": [
    "import pixiedust"
   ]
  },
  {
   "cell_type": "code",
   "execution_count": 26,
   "metadata": {
    "pixiedust": {
     "displayParams": {
      "binsize": "9",
      "chartsize": "100",
      "handlerId": "histogram",
      "keyFields": "_c4,_c1",
      "rowCount": "10000",
      "title": "Prediction Results & Frequencies",
      "valueFields": "prediction"
     }
    }
   },
   "outputs": [
    {
     "data": {
      "text/html": [
       "<style type=\"text/css\">.pd_warning{display:none;}</style><div class=\"pd_warning\"><em>Hey, there's something awesome here! To see it, open this notebook outside GitHub, in a viewer like Jupyter</em></div>\n",
       "        <div class=\"pd_save is-viewer-good\" style=\"padding-right:10px;text-align: center;line-height:initial !important;font-size: xx-large;font-weight: 500;color: coral;\">\n",
       "            Prediction Results &amp; Frequencies\n",
       "        </div>\n",
       "    <div id=\"chartFigureb4afb3f3\" class=\"pd_save is-viewer-good\" style=\"overflow-x:auto\">\n",
       "            \n",
       "                    \n",
       "                            <center><img style=\"max-width:initial !important\" src=\"data:image/png;base64,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\" class=\"pd_save\"></center>\n",
       "                        \n",
       "                    \n",
       "                \n",
       "        </div>"
      ],
      "text/plain": [
       "<IPython.core.display.HTML object>"
      ]
     },
     "metadata": {},
     "output_type": "display_data"
    }
   ],
   "source": [
    "display(predictions)"
   ]
  },
  {
   "cell_type": "markdown",
   "metadata": {},
   "source": [
    "![Cluster](img/cluster1.png)"
   ]
  },
  {
   "cell_type": "code",
   "execution_count": 25,
   "metadata": {
    "pixiedust": {
     "displayParams": {
      "chartsize": "87",
      "clusterby": "_c2",
      "handlerId": "lineChart",
      "keyFields": "_c1",
      "rowCount": "10000",
      "title": "Prediction Results by Names (_c1)",
      "valueFields": "prediction"
     }
    }
   },
   "outputs": [
    {
     "data": {
      "text/html": [
       "<style type=\"text/css\">.pd_warning{display:none;}</style><div class=\"pd_warning\"><em>Hey, there's something awesome here! To see it, open this notebook outside GitHub, in a viewer like Jupyter</em></div>\n",
       "        <div class=\"pd_save is-viewer-good\" style=\"padding-right:10px;text-align: center;line-height:initial !important;font-size: xx-large;font-weight: 500;color: coral;\">\n",
       "            Prediction Results by Names (_c1)\n",
       "        </div>\n",
       "    <div id=\"chartFigure01bc840f\" class=\"pd_save is-viewer-good\" style=\"overflow-x:auto\">\n",
       "            \n",
       "                    \n",
       "                            <center><img style=\"max-width:initial !important\" src=\"data:image/png;base64,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\" class=\"pd_save\"></center>\n",
       "                        \n",
       "                    \n",
       "                \n",
       "        </div>"
      ],
      "text/plain": [
       "<IPython.core.display.HTML object>"
      ]
     },
     "metadata": {},
     "output_type": "display_data"
    }
   ],
   "source": [
    "display(predictions)"
   ]
  },
  {
   "cell_type": "markdown",
   "metadata": {},
   "source": [
    "![Cluster](img/cluster2.png)"
   ]
  }
 ],
 "metadata": {
  "kernelspec": {
   "display_name": "Python 3",
   "language": "python",
   "name": "python3"
  },
  "language_info": {
   "codemirror_mode": {
    "name": "ipython",
    "version": 3
   },
   "file_extension": ".py",
   "mimetype": "text/x-python",
   "name": "python",
   "nbconvert_exporter": "python",
   "pygments_lexer": "ipython3",
   "version": "3.7.1"
  }
 },
 "nbformat": 4,
 "nbformat_minor": 2
}
